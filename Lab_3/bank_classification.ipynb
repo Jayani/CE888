{
  "nbformat": 4,
  "nbformat_minor": 0,
  "metadata": {
    "colab": {
      "name": "Copy of bank_classification.ipynb",
      "provenance": [],
      "include_colab_link": true
    },
    "kernelspec": {
      "display_name": "Python 3",
      "name": "python3"
    },
    "language_info": {
      "name": "python"
    }
  },
  "cells": [
    {
      "cell_type": "markdown",
      "metadata": {
        "id": "view-in-github",
        "colab_type": "text"
      },
      "source": [
        "<a href=\"https://colab.research.google.com/github/Jayani/CE888/blob/main/Lab_3/bank_classification.ipynb\" target=\"_parent\"><img src=\"https://colab.research.google.com/assets/colab-badge.svg\" alt=\"Open In Colab\"/></a>"
      ]
    },
    {
      "cell_type": "code",
      "metadata": {
        "id": "U-yh_VivSrVU"
      },
      "source": [
        "#Loading the Libraries\n",
        "%matplotlib inline\n",
        "import matplotlib\n",
        "import numpy as np\n",
        "import matplotlib.pyplot as plt\n",
        "import pandas as pd\n",
        "import seaborn as sns\n",
        "import itertools\n",
        "\n",
        "from sklearn.tree import DecisionTreeRegressor\n",
        "from sklearn.ensemble import RandomForestClassifier, ExtraTreesClassifier\n",
        "from sklearn.model_selection import cross_val_score,cross_val_predict, StratifiedKFold\n",
        "from sklearn.metrics import mean_squared_error as mse\n",
        "from sklearn.metrics import mean_absolute_error as mae\n",
        "from sklearn.metrics import accuracy_score as acc\n",
        "from sklearn.metrics import make_scorer, confusion_matrix\n",
        "from sklearn.dummy import DummyRegressor, DummyClassifier\n",
        "from sklearn.preprocessing import LabelEncoder\n",
        "from sklearn.metrics import f1_score"
      ],
      "execution_count": 1,
      "outputs": []
    },
    {
      "cell_type": "code",
      "metadata": {
        "id": "scQ-UMVVTDb8"
      },
      "source": [
        "#Loading the dataset\n",
        "df = pd.read_csv(\"https://raw.githubusercontent.com/albanda/CE888/master/lab3/bank-additional-full.csv\", delimiter = \";\")"
      ],
      "execution_count": 2,
      "outputs": []
    },
    {
      "cell_type": "code",
      "metadata": {
        "colab": {
          "base_uri": "https://localhost:8080/",
          "height": 215
        },
        "id": "0GNEPm4FTFIO",
        "outputId": "ad4a303d-2c90-4c6f-96de-9fdf07577ade"
      },
      "source": [
        "df.head()"
      ],
      "execution_count": 3,
      "outputs": [
        {
          "output_type": "execute_result",
          "data": {
            "text/html": [
              "<div>\n",
              "<style scoped>\n",
              "    .dataframe tbody tr th:only-of-type {\n",
              "        vertical-align: middle;\n",
              "    }\n",
              "\n",
              "    .dataframe tbody tr th {\n",
              "        vertical-align: top;\n",
              "    }\n",
              "\n",
              "    .dataframe thead th {\n",
              "        text-align: right;\n",
              "    }\n",
              "</style>\n",
              "<table border=\"1\" class=\"dataframe\">\n",
              "  <thead>\n",
              "    <tr style=\"text-align: right;\">\n",
              "      <th></th>\n",
              "      <th>age</th>\n",
              "      <th>job</th>\n",
              "      <th>marital</th>\n",
              "      <th>education</th>\n",
              "      <th>default</th>\n",
              "      <th>housing</th>\n",
              "      <th>loan</th>\n",
              "      <th>contact</th>\n",
              "      <th>month</th>\n",
              "      <th>day_of_week</th>\n",
              "      <th>duration</th>\n",
              "      <th>campaign</th>\n",
              "      <th>pdays</th>\n",
              "      <th>previous</th>\n",
              "      <th>poutcome</th>\n",
              "      <th>emp.var.rate</th>\n",
              "      <th>cons.price.idx</th>\n",
              "      <th>cons.conf.idx</th>\n",
              "      <th>euribor3m</th>\n",
              "      <th>nr.employed</th>\n",
              "      <th>y</th>\n",
              "    </tr>\n",
              "  </thead>\n",
              "  <tbody>\n",
              "    <tr>\n",
              "      <th>0</th>\n",
              "      <td>56</td>\n",
              "      <td>housemaid</td>\n",
              "      <td>married</td>\n",
              "      <td>basic.4y</td>\n",
              "      <td>no</td>\n",
              "      <td>no</td>\n",
              "      <td>no</td>\n",
              "      <td>telephone</td>\n",
              "      <td>may</td>\n",
              "      <td>mon</td>\n",
              "      <td>261</td>\n",
              "      <td>1</td>\n",
              "      <td>999</td>\n",
              "      <td>0</td>\n",
              "      <td>nonexistent</td>\n",
              "      <td>1.1</td>\n",
              "      <td>93.994</td>\n",
              "      <td>-36.4</td>\n",
              "      <td>4.857</td>\n",
              "      <td>5191.0</td>\n",
              "      <td>no</td>\n",
              "    </tr>\n",
              "    <tr>\n",
              "      <th>1</th>\n",
              "      <td>57</td>\n",
              "      <td>services</td>\n",
              "      <td>married</td>\n",
              "      <td>high.school</td>\n",
              "      <td>unknown</td>\n",
              "      <td>no</td>\n",
              "      <td>no</td>\n",
              "      <td>telephone</td>\n",
              "      <td>may</td>\n",
              "      <td>mon</td>\n",
              "      <td>149</td>\n",
              "      <td>1</td>\n",
              "      <td>999</td>\n",
              "      <td>0</td>\n",
              "      <td>nonexistent</td>\n",
              "      <td>1.1</td>\n",
              "      <td>93.994</td>\n",
              "      <td>-36.4</td>\n",
              "      <td>4.857</td>\n",
              "      <td>5191.0</td>\n",
              "      <td>no</td>\n",
              "    </tr>\n",
              "    <tr>\n",
              "      <th>2</th>\n",
              "      <td>37</td>\n",
              "      <td>services</td>\n",
              "      <td>married</td>\n",
              "      <td>high.school</td>\n",
              "      <td>no</td>\n",
              "      <td>yes</td>\n",
              "      <td>no</td>\n",
              "      <td>telephone</td>\n",
              "      <td>may</td>\n",
              "      <td>mon</td>\n",
              "      <td>226</td>\n",
              "      <td>1</td>\n",
              "      <td>999</td>\n",
              "      <td>0</td>\n",
              "      <td>nonexistent</td>\n",
              "      <td>1.1</td>\n",
              "      <td>93.994</td>\n",
              "      <td>-36.4</td>\n",
              "      <td>4.857</td>\n",
              "      <td>5191.0</td>\n",
              "      <td>no</td>\n",
              "    </tr>\n",
              "    <tr>\n",
              "      <th>3</th>\n",
              "      <td>40</td>\n",
              "      <td>admin.</td>\n",
              "      <td>married</td>\n",
              "      <td>basic.6y</td>\n",
              "      <td>no</td>\n",
              "      <td>no</td>\n",
              "      <td>no</td>\n",
              "      <td>telephone</td>\n",
              "      <td>may</td>\n",
              "      <td>mon</td>\n",
              "      <td>151</td>\n",
              "      <td>1</td>\n",
              "      <td>999</td>\n",
              "      <td>0</td>\n",
              "      <td>nonexistent</td>\n",
              "      <td>1.1</td>\n",
              "      <td>93.994</td>\n",
              "      <td>-36.4</td>\n",
              "      <td>4.857</td>\n",
              "      <td>5191.0</td>\n",
              "      <td>no</td>\n",
              "    </tr>\n",
              "    <tr>\n",
              "      <th>4</th>\n",
              "      <td>56</td>\n",
              "      <td>services</td>\n",
              "      <td>married</td>\n",
              "      <td>high.school</td>\n",
              "      <td>no</td>\n",
              "      <td>no</td>\n",
              "      <td>yes</td>\n",
              "      <td>telephone</td>\n",
              "      <td>may</td>\n",
              "      <td>mon</td>\n",
              "      <td>307</td>\n",
              "      <td>1</td>\n",
              "      <td>999</td>\n",
              "      <td>0</td>\n",
              "      <td>nonexistent</td>\n",
              "      <td>1.1</td>\n",
              "      <td>93.994</td>\n",
              "      <td>-36.4</td>\n",
              "      <td>4.857</td>\n",
              "      <td>5191.0</td>\n",
              "      <td>no</td>\n",
              "    </tr>\n",
              "  </tbody>\n",
              "</table>\n",
              "</div>"
            ],
            "text/plain": [
              "   age        job  marital  ... euribor3m nr.employed   y\n",
              "0   56  housemaid  married  ...     4.857      5191.0  no\n",
              "1   57   services  married  ...     4.857      5191.0  no\n",
              "2   37   services  married  ...     4.857      5191.0  no\n",
              "3   40     admin.  married  ...     4.857      5191.0  no\n",
              "4   56   services  married  ...     4.857      5191.0  no\n",
              "\n",
              "[5 rows x 21 columns]"
            ]
          },
          "metadata": {
            "tags": []
          },
          "execution_count": 3
        }
      ]
    },
    {
      "cell_type": "code",
      "metadata": {
        "colab": {
          "base_uri": "https://localhost:8080/"
        },
        "id": "tzTyoDYCTHiT",
        "outputId": "6e4b02ef-b8ce-43ab-ba2b-7d4b7ff99bc0"
      },
      "source": [
        "df.dtypes"
      ],
      "execution_count": 4,
      "outputs": [
        {
          "output_type": "execute_result",
          "data": {
            "text/plain": [
              "age                 int64\n",
              "job                object\n",
              "marital            object\n",
              "education          object\n",
              "default            object\n",
              "housing            object\n",
              "loan               object\n",
              "contact            object\n",
              "month              object\n",
              "day_of_week        object\n",
              "duration            int64\n",
              "campaign            int64\n",
              "pdays               int64\n",
              "previous            int64\n",
              "poutcome           object\n",
              "emp.var.rate      float64\n",
              "cons.price.idx    float64\n",
              "cons.conf.idx     float64\n",
              "euribor3m         float64\n",
              "nr.employed       float64\n",
              "y                  object\n",
              "dtype: object"
            ]
          },
          "metadata": {
            "tags": []
          },
          "execution_count": 4
        }
      ]
    },
    {
      "cell_type": "code",
      "metadata": {
        "id": "JOLf35c0TKCb"
      },
      "source": [
        "#Convert Labels into numbers\n",
        "df[[\"y\"]] = df[[\"y\"]].apply(LabelEncoder().fit_transform)"
      ],
      "execution_count": 5,
      "outputs": []
    },
    {
      "cell_type": "code",
      "metadata": {
        "colab": {
          "base_uri": "https://localhost:8080/"
        },
        "id": "CSrC6jh4TXjj",
        "outputId": "c350e036-bf6c-41a6-c3d2-6ec8c64aec73"
      },
      "source": [
        "#Creating dummies to convert the categorical columns to numerical columns\n",
        "df_dummies = pd.get_dummies(df)\n",
        "print(df_dummies)"
      ],
      "execution_count": 6,
      "outputs": [
        {
          "output_type": "stream",
          "text": [
            "       age  duration  ...  poutcome_nonexistent  poutcome_success\n",
            "0       56       261  ...                     1                 0\n",
            "1       57       149  ...                     1                 0\n",
            "2       37       226  ...                     1                 0\n",
            "3       40       151  ...                     1                 0\n",
            "4       56       307  ...                     1                 0\n",
            "...    ...       ...  ...                   ...               ...\n",
            "41183   73       334  ...                     1                 0\n",
            "41184   46       383  ...                     1                 0\n",
            "41185   56       189  ...                     1                 0\n",
            "41186   44       442  ...                     1                 0\n",
            "41187   74       239  ...                     0                 0\n",
            "\n",
            "[41188 rows x 64 columns]\n"
          ],
          "name": "stdout"
        }
      ]
    },
    {
      "cell_type": "code",
      "metadata": {
        "id": "nW5V7jJ7Tcib"
      },
      "source": [
        "#Dropping the duration column\n",
        "df_dummies.drop(['duration'],axis = 1, inplace = True)"
      ],
      "execution_count": 7,
      "outputs": []
    },
    {
      "cell_type": "code",
      "metadata": {
        "colab": {
          "base_uri": "https://localhost:8080/"
        },
        "id": "gejS9kAnTeuD",
        "outputId": "d6cdcc8b-4cc9-4009-f59e-4d6caff60a07"
      },
      "source": [
        "df_dummies.columns"
      ],
      "execution_count": 8,
      "outputs": [
        {
          "output_type": "execute_result",
          "data": {
            "text/plain": [
              "Index(['age', 'campaign', 'pdays', 'previous', 'emp.var.rate',\n",
              "       'cons.price.idx', 'cons.conf.idx', 'euribor3m', 'nr.employed', 'y',\n",
              "       'job_admin.', 'job_blue-collar', 'job_entrepreneur', 'job_housemaid',\n",
              "       'job_management', 'job_retired', 'job_self-employed', 'job_services',\n",
              "       'job_student', 'job_technician', 'job_unemployed', 'job_unknown',\n",
              "       'marital_divorced', 'marital_married', 'marital_single',\n",
              "       'marital_unknown', 'education_basic.4y', 'education_basic.6y',\n",
              "       'education_basic.9y', 'education_high.school', 'education_illiterate',\n",
              "       'education_professional.course', 'education_university.degree',\n",
              "       'education_unknown', 'default_no', 'default_unknown', 'default_yes',\n",
              "       'housing_no', 'housing_unknown', 'housing_yes', 'loan_no',\n",
              "       'loan_unknown', 'loan_yes', 'contact_cellular', 'contact_telephone',\n",
              "       'month_apr', 'month_aug', 'month_dec', 'month_jul', 'month_jun',\n",
              "       'month_mar', 'month_may', 'month_nov', 'month_oct', 'month_sep',\n",
              "       'day_of_week_fri', 'day_of_week_mon', 'day_of_week_thu',\n",
              "       'day_of_week_tue', 'day_of_week_wed', 'poutcome_failure',\n",
              "       'poutcome_nonexistent', 'poutcome_success'],\n",
              "      dtype='object')"
            ]
          },
          "metadata": {
            "tags": []
          },
          "execution_count": 8
        }
      ]
    },
    {
      "cell_type": "code",
      "metadata": {
        "colab": {
          "base_uri": "https://localhost:8080/"
        },
        "id": "sX4k8bRmThIn",
        "outputId": "a1392555-a667-490e-e210-cf9a45f40d49"
      },
      "source": [
        "#Checking for Null values\n",
        "df_dummies.isnull().sum()\n",
        "#No Null values"
      ],
      "execution_count": 9,
      "outputs": [
        {
          "output_type": "execute_result",
          "data": {
            "text/plain": [
              "age                     0\n",
              "campaign                0\n",
              "pdays                   0\n",
              "previous                0\n",
              "emp.var.rate            0\n",
              "                       ..\n",
              "day_of_week_tue         0\n",
              "day_of_week_wed         0\n",
              "poutcome_failure        0\n",
              "poutcome_nonexistent    0\n",
              "poutcome_success        0\n",
              "Length: 63, dtype: int64"
            ]
          },
          "metadata": {
            "tags": []
          },
          "execution_count": 9
        }
      ]
    },
    {
      "cell_type": "code",
      "metadata": {
        "colab": {
          "base_uri": "https://localhost:8080/",
          "height": 279
        },
        "id": "DelGuDWPTr4h",
        "outputId": "2f10c3c7-b4c8-40c7-e64e-687452b35117"
      },
      "source": [
        "#Histogram plot of the label\n",
        "sns_plot = sns.histplot(df_dummies['y'])"
      ],
      "execution_count": 10,
      "outputs": [
        {
          "output_type": "display_data",
          "data": {
            "image/png": "[encoded data removed]",
            "text/plain": [
              "<Figure size 432x288 with 1 Axes>"
            ]
          },
          "metadata": {
            "tags": [],
            "needs_background": "light"
          }
        }
      ]
    },
    {
      "cell_type": "code",
      "metadata": {
        "colab": {
          "base_uri": "https://localhost:8080/"
        },
        "id": "Y_4l1dr8Ttxw",
        "outputId": "10365792-a46c-4bb6-eabe-2c7c91c3111c"
      },
      "source": [
        "#we have an imbalance dataset\n",
        "values=df_dummies['y'].value_counts()\n",
        "values"
      ],
      "execution_count": 11,
      "outputs": [
        {
          "output_type": "execute_result",
          "data": {
            "text/plain": [
              "0    36548\n",
              "1     4640\n",
              "Name: y, dtype: int64"
            ]
          },
          "metadata": {
            "tags": []
          },
          "execution_count": 11
        }
      ]
    },
    {
      "cell_type": "code",
      "metadata": {
        "colab": {
          "base_uri": "https://localhost:8080/"
        },
        "id": "XtjkN6FYT4iU",
        "outputId": "e4955f33-6177-4b2f-eeb9-a91bfbeb2b7d"
      },
      "source": [
        "values[0]\n",
        "values[1]\n",
        "imblc = values[1]/values[0]\n",
        "imblc\n",
        "print((4640/(36548+4640))*100)"
      ],
      "execution_count": 12,
      "outputs": [
        {
          "output_type": "stream",
          "text": [
            "11.265417111780131\n"
          ],
          "name": "stdout"
        }
      ]
    },
    {
      "cell_type": "code",
      "metadata": {
        "id": "xAGcz1V5UI0m"
      },
      "source": [
        "# Split Target/Output from Features\n",
        "y = df_dummies.y # Target variable\n",
        "X = df_dummies.drop('y',axis=1) # Features"
      ],
      "execution_count": 13,
      "outputs": []
    },
    {
      "cell_type": "code",
      "metadata": {
        "id": "HU_E1MM5UNPr"
      },
      "source": [
        "#Splitting the data using train_test_split\n",
        "from sklearn.model_selection import train_test_split, KFold\n",
        "X_train, X_test, y_train, y_test = train_test_split(X, y,stratify=y,test_size=0.20,random_state=50)"
      ],
      "execution_count": 14,
      "outputs": []
    },
    {
      "cell_type": "code",
      "metadata": {
        "colab": {
          "base_uri": "https://localhost:8080/"
        },
        "id": "2wC8PhN8whCu",
        "outputId": "43201d18-4743-4023-fdd0-20ccb1fd1ab8"
      },
      "source": [
        "cv = StratifiedKFold(n_splits=10, random_state=50, shuffle=True)\n",
        "clf = RandomForestClassifier(n_estimators=100, max_depth=3)\n",
        "clf.fit(X_train, y_train)"
      ],
      "execution_count": 15,
      "outputs": [
        {
          "output_type": "execute_result",
          "data": {
            "text/plain": [
              "RandomForestClassifier(bootstrap=True, ccp_alpha=0.0, class_weight=None,\n",
              "                       criterion='gini', max_depth=3, max_features='auto',\n",
              "                       max_leaf_nodes=None, max_samples=None,\n",
              "                       min_impurity_decrease=0.0, min_impurity_split=None,\n",
              "                       min_samples_leaf=1, min_samples_split=2,\n",
              "                       min_weight_fraction_leaf=0.0, n_estimators=100,\n",
              "                       n_jobs=None, oob_score=False, random_state=None,\n",
              "                       verbose=0, warm_start=False)"
            ]
          },
          "metadata": {
            "tags": []
          },
          "execution_count": 15
        }
      ]
    },
    {
      "cell_type": "code",
      "metadata": {
        "colab": {
          "base_uri": "https://localhost:8080/"
        },
        "id": "mABy9f3rxotq",
        "outputId": "652603c0-674b-41a1-d6f6-158c3616542e"
      },
      "source": [
        "scores = cross_val_score(clf, X_train, y_train, cv=cv, n_jobs=-1, scoring='accuracy', verbose=10)\n",
        "print(scores)"
      ],
      "execution_count": 16,
      "outputs": [
        {
          "output_type": "stream",
          "text": [
            "[Parallel(n_jobs=-1)]: Using backend LokyBackend with 2 concurrent workers.\n",
            "[Parallel(n_jobs=-1)]: Done   1 tasks      | elapsed:    3.0s\n",
            "[Parallel(n_jobs=-1)]: Done   4 tasks      | elapsed:    4.8s\n"
          ],
          "name": "stderr"
        },
        {
          "output_type": "stream",
          "text": [
            "[0.8952959  0.90288316 0.89984825 0.89286798 0.89772382 0.90136571\n",
            " 0.89499241 0.89984825 0.89742033 0.89711684]\n"
          ],
          "name": "stdout"
        },
        {
          "output_type": "stream",
          "text": [
            "[Parallel(n_jobs=-1)]: Done  10 out of  10 | elapsed:    9.6s finished\n"
          ],
          "name": "stderr"
        }
      ]
    },
    {
      "cell_type": "code",
      "metadata": {
        "colab": {
          "base_uri": "https://localhost:8080/",
          "height": 88
        },
        "id": "KfXVtKA9UVq_",
        "outputId": "805a7470-678d-495a-8f33-7816b6bd97b2"
      },
      "source": [
        "'''# Fitting Random Forest Classifier\n",
        "from sklearn.metrics import f1_score\n",
        "\n",
        "#10-Fold classifier\n",
        "kfold = KFold(n_splits=10, random_state=50, shuffle= True)\n",
        "# Create a Random Forest Classifier\n",
        "RF_Classifier = RandomForestClassifier(n_estimators=100,max_depth=3)\n",
        "\n",
        "# Train the model using the training sets\n",
        "RF_Classifier.fit(X_train, y_train)\n",
        "\n",
        "# Predict the response for test dataset\n",
        "y_pred = RF_Classifier.predict(X_test)\n",
        "\n",
        "results_kfold = cross_val_score(RF_Classifier, X_train, y_train, cv=kfold, scoring=make_scorer(f1_score))\n",
        "print(\"F1 score:\", f1_score(y_test, y_pred))\n",
        "print(results_kfold)\n",
        "'''"
      ],
      "execution_count": 17,
      "outputs": [
        {
          "output_type": "execute_result",
          "data": {
            "application/vnd.google.colaboratory.intrinsic+json": {
              "type": "string"
            },
            "text/plain": [
              "'# Fitting Random Forest Classifier\\nfrom sklearn.metrics import f1_score\\n\\n#10-Fold classifier\\nkfold = KFold(n_splits=10, random_state=50, shuffle= True)\\n# Create a Random Forest Classifier\\nRF_Classifier = RandomForestClassifier(n_estimators=100,max_depth=3)\\n\\n# Train the model using the training sets\\nRF_Classifier.fit(X_train, y_train)\\n\\n# Predict the response for test dataset\\ny_pred = RF_Classifier.predict(X_test)\\n\\nresults_kfold = cross_val_score(RF_Classifier, X_train, y_train, cv=kfold, scoring=make_scorer(f1_score))\\nprint(\"F1 score:\", f1_score(y_test, y_pred))\\nprint(results_kfold)\\n'"
            ]
          },
          "metadata": {
            "tags": []
          },
          "execution_count": 17
        }
      ]
    },
    {
      "cell_type": "code",
      "metadata": {
        "colab": {
          "base_uri": "https://localhost:8080/"
        },
        "id": "tsxe7rdQUatF",
        "outputId": "77d834d4-9fd3-4034-d9d9-d03260d4f83b"
      },
      "source": [
        "import sklearn\n",
        "sorted(sklearn.metrics.SCORERS.keys())"
      ],
      "execution_count": 18,
      "outputs": [
        {
          "output_type": "execute_result",
          "data": {
            "text/plain": [
              "['accuracy',\n",
              " 'adjusted_mutual_info_score',\n",
              " 'adjusted_rand_score',\n",
              " 'average_precision',\n",
              " 'balanced_accuracy',\n",
              " 'completeness_score',\n",
              " 'explained_variance',\n",
              " 'f1',\n",
              " 'f1_macro',\n",
              " 'f1_micro',\n",
              " 'f1_samples',\n",
              " 'f1_weighted',\n",
              " 'fowlkes_mallows_score',\n",
              " 'homogeneity_score',\n",
              " 'jaccard',\n",
              " 'jaccard_macro',\n",
              " 'jaccard_micro',\n",
              " 'jaccard_samples',\n",
              " 'jaccard_weighted',\n",
              " 'max_error',\n",
              " 'mutual_info_score',\n",
              " 'neg_brier_score',\n",
              " 'neg_log_loss',\n",
              " 'neg_mean_absolute_error',\n",
              " 'neg_mean_gamma_deviance',\n",
              " 'neg_mean_poisson_deviance',\n",
              " 'neg_mean_squared_error',\n",
              " 'neg_mean_squared_log_error',\n",
              " 'neg_median_absolute_error',\n",
              " 'neg_root_mean_squared_error',\n",
              " 'normalized_mutual_info_score',\n",
              " 'precision',\n",
              " 'precision_macro',\n",
              " 'precision_micro',\n",
              " 'precision_samples',\n",
              " 'precision_weighted',\n",
              " 'r2',\n",
              " 'recall',\n",
              " 'recall_macro',\n",
              " 'recall_micro',\n",
              " 'recall_samples',\n",
              " 'recall_weighted',\n",
              " 'roc_auc',\n",
              " 'roc_auc_ovo',\n",
              " 'roc_auc_ovo_weighted',\n",
              " 'roc_auc_ovr',\n",
              " 'roc_auc_ovr_weighted',\n",
              " 'v_measure_score']"
            ]
          },
          "metadata": {
            "tags": []
          },
          "execution_count": 18
        }
      ]
    },
    {
      "cell_type": "code",
      "metadata": {
        "colab": {
          "base_uri": "https://localhost:8080/"
        },
        "id": "s04TDUWQyIEk",
        "outputId": "e4596063-9dba-475c-956b-ec44f1dba493"
      },
      "source": [
        "DummyClf = DummyClassifier(strategy='stratified')\n",
        "DummyClf.fit(X_train, y_train)"
      ],
      "execution_count": 19,
      "outputs": [
        {
          "output_type": "execute_result",
          "data": {
            "text/plain": [
              "DummyClassifier(constant=None, random_state=None, strategy='stratified')"
            ]
          },
          "metadata": {
            "tags": []
          },
          "execution_count": 19
        }
      ]
    },
    {
      "cell_type": "code",
      "metadata": {
        "colab": {
          "base_uri": "https://localhost:8080/"
        },
        "id": "j3gxiPtgyTbR",
        "outputId": "38c1e862-6b1d-4efa-d784-47f00232158e"
      },
      "source": [
        "Dummy_score = cross_val_score(DummyClf, X_train, y=y_train, scoring='f1', cv=10)\n",
        "Dummy_score.mean()"
      ],
      "execution_count": 20,
      "outputs": [
        {
          "output_type": "execute_result",
          "data": {
            "text/plain": [
              "0.1194238475507758"
            ]
          },
          "metadata": {
            "tags": []
          },
          "execution_count": 20
        }
      ]
    },
    {
      "cell_type": "code",
      "metadata": {
        "colab": {
          "base_uri": "https://localhost:8080/"
        },
        "id": "1NeC-cIVyeaG",
        "outputId": "5dc315c5-fb3f-40b3-be33-8a6c262853c4"
      },
      "source": [
        "f1_score(y_test, DummyClf.predict(X_test))\n",
        "#acc(y_test, DummyClf.predict(X_test))"
      ],
      "execution_count": 21,
      "outputs": [
        {
          "output_type": "execute_result",
          "data": {
            "text/plain": [
              "0.11745689655172414"
            ]
          },
          "metadata": {
            "tags": []
          },
          "execution_count": 21
        }
      ]
    },
    {
      "cell_type": "code",
      "metadata": {
        "colab": {
          "base_uri": "https://localhost:8080/"
        },
        "id": "KH5wqiVSyr8b",
        "outputId": "06d19bcd-b537-41e1-d462-cc49fe83a26e"
      },
      "source": [
        "f1_score(y_test, clf.predict(X_test))\n",
        "#acc(y_test, clf.predict(X_test))"
      ],
      "execution_count": 22,
      "outputs": [
        {
          "output_type": "execute_result",
          "data": {
            "text/plain": [
              "0.2656112576956904"
            ]
          },
          "metadata": {
            "tags": []
          },
          "execution_count": 22
        }
      ]
    },
    {
      "cell_type": "code",
      "metadata": {
        "colab": {
          "base_uri": "https://localhost:8080/"
        },
        "id": "Jj08w7iHUq6r",
        "outputId": "de350adf-ca9a-46a9-8f99-fc6eb3a0253c"
      },
      "source": [
        "from sklearn.model_selection import GridSearchCV\n",
        "# Using the GridSearchCV, hyperparameters are tuned\n",
        "# Arranging Parameter Range \n",
        "'''param_grid = { \n",
        "    'n_estimators': [50,100,200,300,400], \n",
        "    'max_features': ['auto'],\n",
        "    'max_depth' : [3,5,10,15,20],\n",
        "    'criterion' :['gini', 'entropy']\n",
        "}'''\n",
        "param_grid = { \n",
        "    'n_estimators': [50,100], \n",
        "    'max_features': ['auto'],\n",
        "    'max_depth' : [3,5,10],\n",
        "    'criterion' :['gini', 'entropy']\n",
        "}\n",
        "grid = GridSearchCV(estimator=clf, param_grid=param_grid, cv = 10)\n",
        "# Model Fitting\n",
        "grid.fit(X_train, y_train)"
      ],
      "execution_count": 23,
      "outputs": [
        {
          "output_type": "execute_result",
          "data": {
            "text/plain": [
              "GridSearchCV(cv=10, error_score=nan,\n",
              "             estimator=RandomForestClassifier(bootstrap=True, ccp_alpha=0.0,\n",
              "                                              class_weight=None,\n",
              "                                              criterion='gini', max_depth=3,\n",
              "                                              max_features='auto',\n",
              "                                              max_leaf_nodes=None,\n",
              "                                              max_samples=None,\n",
              "                                              min_impurity_decrease=0.0,\n",
              "                                              min_impurity_split=None,\n",
              "                                              min_samples_leaf=1,\n",
              "                                              min_samples_split=2,\n",
              "                                              min_weight_fraction_leaf=0.0,\n",
              "                                              n_estimators=100, n_jobs=None,\n",
              "                                              oob_score=False,\n",
              "                                              random_state=None, verbose=0,\n",
              "                                              warm_start=False),\n",
              "             iid='deprecated', n_jobs=None,\n",
              "             param_grid={'criterion': ['gini', 'entropy'],\n",
              "                         'max_depth': [3, 5, 10], 'max_features': ['auto'],\n",
              "                         'n_estimators': [50, 100]},\n",
              "             pre_dispatch='2*n_jobs', refit=True, return_train_score=False,\n",
              "             scoring=None, verbose=0)"
            ]
          },
          "metadata": {
            "tags": []
          },
          "execution_count": 23
        }
      ]
    },
    {
      "cell_type": "code",
      "metadata": {
        "id": "rk7H3NYNVCHX",
        "colab": {
          "base_uri": "https://localhost:8080/"
        },
        "outputId": "928b487e-b09b-49d7-8dfc-5aaca1d2e89f"
      },
      "source": [
        "# Best parameter after tuning \n",
        "print(grid.best_params_)\n",
        "grid.best_score_"
      ],
      "execution_count": 24,
      "outputs": [
        {
          "output_type": "stream",
          "text": [
            "{'criterion': 'entropy', 'max_depth': 10, 'max_features': 'auto', 'n_estimators': 100}\n"
          ],
          "name": "stdout"
        },
        {
          "output_type": "execute_result",
          "data": {
            "text/plain": [
              "0.9004552352048558"
            ]
          },
          "metadata": {
            "tags": []
          },
          "execution_count": 24
        }
      ]
    },
    {
      "cell_type": "code",
      "metadata": {
        "id": "bR8C8XsRefJA",
        "colab": {
          "base_uri": "https://localhost:8080/"
        },
        "outputId": "8c771b90-26f2-45f9-97e0-94ad264adfdb"
      },
      "source": [
        "print('Train Accuracy:', grid.score(X_train,y_train))\n",
        "print('Test Accuracy :', grid.score(X_test,y_test))"
      ],
      "execution_count": 25,
      "outputs": [
        {
          "output_type": "stream",
          "text": [
            "Train Accuracy: 0.9122003034901366\n",
            "Test Accuracy : 0.900825443068706\n"
          ],
          "name": "stdout"
        }
      ]
    },
    {
      "cell_type": "code",
      "metadata": {
        "colab": {
          "base_uri": "https://localhost:8080/"
        },
        "id": "IG0Lrs5HFgCC",
        "outputId": "cff9098d-6f5e-491f-a18d-d3c8567c957a"
      },
      "source": [
        "score_cv = cross_val_score(estimator=grid.best_estimator_, X=X_train, \n",
        "                            y=y_train, cv=cv, n_jobs=-1, scoring='accuracy', verbose=10)"
      ],
      "execution_count": 26,
      "outputs": [
        {
          "output_type": "stream",
          "text": [
            "[Parallel(n_jobs=-1)]: Using backend LokyBackend with 2 concurrent workers.\n",
            "[Parallel(n_jobs=-1)]: Done   1 tasks      | elapsed:    3.9s\n",
            "[Parallel(n_jobs=-1)]: Done   4 tasks      | elapsed:    7.8s\n",
            "[Parallel(n_jobs=-1)]: Done  10 out of  10 | elapsed:   19.2s finished\n"
          ],
          "name": "stderr"
        }
      ]
    },
    {
      "cell_type": "code",
      "metadata": {
        "id": "gB2-_kylF7JB",
        "colab": {
          "base_uri": "https://localhost:8080/"
        },
        "outputId": "37261225-035f-4b08-b09c-344e38818c99"
      },
      "source": [
        "score_cv"
      ],
      "execution_count": 27,
      "outputs": [
        {
          "output_type": "execute_result",
          "data": {
            "text/plain": [
              "array([0.89742033, 0.9107739 , 0.90349014, 0.892261  , 0.8983308 ,\n",
              "       0.90318665, 0.89984825, 0.89893778, 0.89954476, 0.89893778])"
            ]
          },
          "metadata": {
            "tags": []
          },
          "execution_count": 27
        }
      ]
    },
    {
      "cell_type": "code",
      "metadata": {
        "id": "UQbXGiNLVHAX",
        "colab": {
          "base_uri": "https://localhost:8080/"
        },
        "outputId": "21cc5ab6-69d1-4a4e-8c33-12397fab9314"
      },
      "source": [
        "# Fitting Random Forest Classifier to the dataset after hyperparameter tuning\n",
        "# Create a Random Forest Classifier\n",
        "\n",
        "RFC = RandomForestClassifier(n_estimators=200,max_depth=10,max_features='auto',criterion='entropy')\n",
        "\n",
        "# Train the model using the training sets\n",
        "RFC.fit(X_train, y_train)\n",
        "\n",
        "# Predict the response for test dataset\n",
        "y_pred = RFC.predict(X_test)\n",
        "\n",
        "print(\"F1 score:\", f1_score(y_test, y_pred,average='weighted'))"
      ],
      "execution_count": 28,
      "outputs": [
        {
          "output_type": "stream",
          "text": [
            "F1 score: 0.8791644512973041\n"
          ],
          "name": "stdout"
        }
      ]
    },
    {
      "cell_type": "code",
      "metadata": {
        "id": "Lx8BMGi9VJE7",
        "colab": {
          "base_uri": "https://localhost:8080/"
        },
        "outputId": "92958875-392e-4308-c32f-65afa56d3ff3"
      },
      "source": [
        "# Checking the cross validation scores and prediction\n",
        "score=cross_val_score(RFC, X_train, y_train)\n",
        "print('cross_val_score=',score)\n",
        "predictions = cross_val_predict(RFC, X_train, y_train, cv=10)\n",
        "f1_score_clf = f1_score(y_train,predictions,average='weighted')\n",
        "print('Cross-Predicted f1_score:', f1_score_clf)"
      ],
      "execution_count": 29,
      "outputs": [
        {
          "output_type": "stream",
          "text": [
            "cross_val_score= [0.90257967 0.89742033 0.89984825 0.90364188 0.89924127]\n",
            "Cross-Predicted f1_score: 0.877281303025733\n"
          ],
          "name": "stdout"
        }
      ]
    },
    {
      "cell_type": "code",
      "metadata": {
        "id": "qkaE2qKPVLSH",
        "colab": {
          "base_uri": "https://localhost:8080/"
        },
        "outputId": "79ae0183-6a8a-4251-b56a-efca4a6f21a4"
      },
      "source": [
        "#Checking the cross validation average scores\n",
        "score=cross_val_score(RFC, X_train, y_train, cv=10,scoring=\"f1\")\n",
        "print('cross_val_mean:', score.mean())"
      ],
      "execution_count": 30,
      "outputs": [
        {
          "output_type": "stream",
          "text": [
            "cross_val_mean: 0.32943771706604114\n"
          ],
          "name": "stdout"
        }
      ]
    },
    {
      "cell_type": "code",
      "metadata": {
        "id": "0j0DFA77VT0_"
      },
      "source": [
        "#Assigning the column names to features\n",
        "features=['age', 'campaign', 'pdays', 'previous', 'emp.var.rate',\n",
        "       'cons.price.idx', 'cons.conf.idx', 'euribor3m', 'nr.employed', 'y',\n",
        "       'job_admin.', 'job_blue-collar', 'job_entrepreneur', 'job_housemaid',\n",
        "       'job_management', 'job_retired', 'job_self-employed', 'job_services',\n",
        "       'job_student', 'job_technician', 'job_unemployed', 'job_unknown',\n",
        "       'marital_divorced', 'marital_married', 'marital_single',\n",
        "       'marital_unknown', 'education_basic.4y', 'education_basic.6y',\n",
        "       'education_basic.9y', 'education_high.school', 'education_illiterate',\n",
        "       'education_professional.course', 'education_university.degree',\n",
        "       'education_unknown', 'default_no', 'default_unknown', 'default_yes',\n",
        "       'housing_no', 'housing_unknown', 'housing_yes', 'loan_no',\n",
        "       'loan_unknown', 'loan_yes', 'contact_cellular', 'contact_telephone',\n",
        "       'month_apr', 'month_aug', 'month_dec', 'month_jul', 'month_jun',\n",
        "       'month_mar', 'month_may', 'month_nov', 'month_oct', 'month_sep',\n",
        "       'day_of_week_fri', 'day_of_week_mon', 'day_of_week_thu',\n",
        "       'day_of_week_tue', 'day_of_week_wed', 'poutcome_failure',\n",
        "       'poutcome_nonexistent', 'poutcome_success']"
      ],
      "execution_count": 31,
      "outputs": []
    },
    {
      "cell_type": "code",
      "metadata": {
        "id": "5isd8uLsVWCM",
        "colab": {
          "base_uri": "https://localhost:8080/",
          "height": 1000
        },
        "outputId": "079c7f77-6c09-4271-b489-975df9e9001e"
      },
      "source": [
        "# Feature Importance\n",
        "importances = RFC.feature_importances_\n",
        "std = np.std([tree.feature_importances_ for tree in RFC.estimators_],\n",
        "             axis=0)\n",
        "indices = np.argsort(importances)[::-1]\n",
        "print(indices)\n",
        "\n",
        "# Feature rankings\n",
        "print(\"Feature ranking:\")\n",
        "\n",
        "for f in range(X.shape[1]):\n",
        "    print(\"%d. %s (%f)\" % (f + 1, features[indices[f]],  importances[indices[f]]))\n",
        "\n",
        "# Plot the Feature Importance\n",
        "fig = plt.figure()\n",
        "plt.title(\"Feature's Importance\")\n",
        "plt.bar(range(X.shape[1]), importances[indices],\n",
        "       color=\"r\", yerr=std[indices], align=\"center\")\n",
        "plt.xticks(range(X.shape[1]), np.array(features)[indices])\n",
        "plt.xlim([-1, X.shape[1]])\n",
        "plt.ylim([0, None])\n",
        "\n",
        "fig.set_size_inches(15, 8)\n",
        "\n",
        "# plt.savefig(\"importance.pdf\", bbox_inches='tight')\n",
        "\n",
        "# Top 3:\n",
        "#1. nr.employed (0.156643)\n",
        "#2. euribor3m (0.156275)\n",
        "#3. emp.var.rate (0.081952)"
      ],
      "execution_count": 32,
      "outputs": [
        {
          "output_type": "stream",
          "text": [
            "[ 7  8  4  2  6  5 61  0 43  1  3 50 42 60 52 59 49 44 33 34 55 48 10 31\n",
            " 54 23 36 56 57 22 38 58 14 39 41  9 17 28 27 30 18 21 16 25 53 32 51 45\n",
            " 47 13 15 26 19 12 40 37 11 20 46 24 29 35]\n",
            "Feature ranking:\n",
            "1. euribor3m (0.162901)\n",
            "2. nr.employed (0.145056)\n",
            "3. emp.var.rate (0.082151)\n",
            "4. pdays (0.070721)\n",
            "5. cons.conf.idx (0.064068)\n",
            "6. cons.price.idx (0.059466)\n",
            "7. poutcome_nonexistent (0.058592)\n",
            "8. age (0.041694)\n",
            "9. contact_cellular (0.019482)\n",
            "10. campaign (0.018666)\n",
            "11. previous (0.018529)\n",
            "12. month_mar (0.017502)\n",
            "13. loan_yes (0.016603)\n",
            "14. poutcome_failure (0.016195)\n",
            "15. month_nov (0.012956)\n",
            "16. day_of_week_wed (0.011219)\n",
            "17. month_jun (0.011117)\n",
            "18. contact_telephone (0.009280)\n",
            "19. education_unknown (0.008993)\n",
            "20. default_no (0.008389)\n",
            "21. day_of_week_fri (0.007482)\n",
            "22. month_jul (0.006358)\n",
            "23. job_admin. (0.005920)\n",
            "24. education_professional.course (0.005876)\n",
            "25. month_sep (0.005407)\n",
            "26. marital_married (0.005233)\n",
            "27. default_yes (0.005202)\n",
            "28. day_of_week_mon (0.005140)\n",
            "29. day_of_week_thu (0.004883)\n",
            "30. marital_divorced (0.004867)\n",
            "31. housing_unknown (0.004787)\n",
            "32. day_of_week_tue (0.004769)\n",
            "33. job_management (0.004726)\n",
            "34. housing_yes (0.004290)\n",
            "35. loan_unknown (0.004080)\n",
            "36. y (0.004006)\n",
            "37. job_services (0.004000)\n",
            "38. education_basic.9y (0.003991)\n",
            "39. education_basic.6y (0.003733)\n",
            "40. education_illiterate (0.003722)\n",
            "41. job_student (0.003444)\n",
            "42. job_unknown (0.003162)\n",
            "43. job_self-employed (0.003140)\n",
            "44. marital_unknown (0.003121)\n",
            "45. month_oct (0.002947)\n",
            "46. education_university.degree (0.002876)\n",
            "47. month_may (0.002809)\n",
            "48. month_apr (0.002807)\n",
            "49. month_dec (0.002757)\n",
            "50. job_housemaid (0.002750)\n",
            "51. job_retired (0.002658)\n",
            "52. education_basic.4y (0.002503)\n",
            "53. job_technician (0.002113)\n",
            "54. job_entrepreneur (0.002028)\n",
            "55. loan_no (0.001869)\n",
            "56. housing_no (0.001846)\n",
            "57. job_blue-collar (0.001771)\n",
            "58. job_unemployed (0.001383)\n",
            "59. month_aug (0.001107)\n",
            "60. marital_single (0.000681)\n",
            "61. education_high.school (0.000175)\n",
            "62. default_unknown (0.000000)\n"
          ],
          "name": "stdout"
        },
        {
          "output_type": "display_data",
          "data": {
            "image/png": "[encoded data removed]",
            "text/plain": [
              "<Figure size 1080x576 with 1 Axes>"
            ]
          },
          "metadata": {
            "tags": [],
            "needs_background": "light"
          }
        }
      ]
    },
    {
      "cell_type": "markdown",
      "metadata": {
        "id": "vKov6-ZsXlQF"
      },
      "source": [
        "## Quiz Calculations"
      ]
    },
    {
      "cell_type": "code",
      "metadata": {
        "id": "lrZSteYSkZuf",
        "colab": {
          "base_uri": "https://localhost:8080/"
        },
        "outputId": "e8c8ef3f-6910-4129-a07b-52cdb6143248"
      },
      "source": [
        "# Create a Random Forest Classifier\n",
        "RFC = RandomForestClassifier(n_estimators=400,max_depth=6)\n",
        "\n",
        "#Train the model using the training sets\n",
        "RFC.fit(X_train, y_train)\n",
        "\n",
        "#print(\"F1 score:\", f1_score(y_test, y_pred))\n",
        "\n",
        "score = cross_val_score(RFC, X_train, y=y_train, scoring='f1', cv=10)\n",
        "score"
      ],
      "execution_count": 33,
      "outputs": [
        {
          "output_type": "execute_result",
          "data": {
            "text/plain": [
              "array([0.25217391, 0.30669546, 0.23059867, 0.28384279, 0.23399558,\n",
              "       0.31034483, 0.39183673, 0.25494505, 0.2745098 , 0.28144989])"
            ]
          },
          "metadata": {
            "tags": []
          },
          "execution_count": 33
        }
      ]
    },
    {
      "cell_type": "code",
      "metadata": {
        "colab": {
          "base_uri": "https://localhost:8080/"
        },
        "id": "9npWYnc8SDMn",
        "outputId": "e7b64e31-9189-4f7b-c53a-1437c7f31f11"
      },
      "source": [
        "score.mean()"
      ],
      "execution_count": 34,
      "outputs": [
        {
          "output_type": "execute_result",
          "data": {
            "text/plain": [
              "0.28203927413150764"
            ]
          },
          "metadata": {
            "tags": []
          },
          "execution_count": 34
        }
      ]
    },
    {
      "cell_type": "code",
      "metadata": {
        "id": "0PPPsqPqVwOJ",
        "colab": {
          "base_uri": "https://localhost:8080/"
        },
        "outputId": "67bbda82-c397-4ebc-dd19-f048d46f0fac"
      },
      "source": [
        "# Create a Random Forest Classifier\n",
        "RFC = RandomForestClassifier(n_estimators=200,max_depth=8)\n",
        "\n",
        "#Train the model using the training sets\n",
        "RFC.fit(X_train, y_train)\n",
        "\n",
        "#print(\"F1 score:\", f1_score(y_test, y_pred))\n",
        "\n",
        "score = cross_val_score(RFC, X_train, y=y_train, scoring='f1', cv=10)\n",
        "print(score)\n",
        "score.mean()"
      ],
      "execution_count": 35,
      "outputs": [
        {
          "output_type": "stream",
          "text": [
            "[0.28144989 0.33264033 0.27038627 0.29310345 0.25106383 0.32478632\n",
            " 0.41046278 0.26086957 0.3014862  0.2851153 ]\n"
          ],
          "name": "stdout"
        },
        {
          "output_type": "execute_result",
          "data": {
            "text/plain": [
              "0.3011363940410317"
            ]
          },
          "metadata": {
            "tags": []
          },
          "execution_count": 35
        }
      ]
    },
    {
      "cell_type": "code",
      "metadata": {
        "id": "zp66lM7tbKc_",
        "colab": {
          "base_uri": "https://localhost:8080/"
        },
        "outputId": "520f032c-9dc1-45df-e3be-9450d72bd9c7"
      },
      "source": [
        "#For n_estimators=100,max_depth=8,random_state=60 generalisation error\n",
        "\n",
        "RFC = RandomForestClassifier(n_estimators=1000,max_depth=8,random_state=60)\n",
        "\n",
        "#Train the model using the training sets\n",
        "RFC.fit(X_train, y_train)\n",
        "\n",
        "#Predict the response for test dataset\n",
        "y_pred = RFC.predict(X_test)\n",
        "\n",
        "print(\"F1 score:\", f1_score(y_test, y_pred))"
      ],
      "execution_count": 36,
      "outputs": [
        {
          "output_type": "stream",
          "text": [
            "F1 score: 0.33278955954323\n"
          ],
          "name": "stdout"
        }
      ]
    },
    {
      "cell_type": "code",
      "metadata": {
        "id": "ZUly7r-rb7OW",
        "colab": {
          "base_uri": "https://localhost:8080/"
        },
        "outputId": "878c334e-5ed4-4ad7-ac9e-804d8d805ed5"
      },
      "source": [
        "#For n_estimators=400,max_depth=8,random_state=60 top 3 features\n",
        "# Fitting Random Forest Classifier to the dataset \n",
        "#Create a Random Forest Classifier\n",
        "RFC = RandomForestClassifier(n_estimators=400,max_depth=8,random_state=60)\n",
        "\n",
        "#Train the model using the training sets\n",
        "RFC.fit(X_train, y_train)\n",
        "\n",
        "#Predict the response for test dataset\n",
        "y_pred = RFC.predict(X_test)\n",
        "\n",
        "print(\"F1 score:\", f1_score(y_test, y_pred))"
      ],
      "execution_count": 37,
      "outputs": [
        {
          "output_type": "stream",
          "text": [
            "F1 score: 0.33495934959349594\n"
          ],
          "name": "stdout"
        }
      ]
    },
    {
      "cell_type": "code",
      "metadata": {
        "id": "hgYF7SpscA1N",
        "colab": {
          "base_uri": "https://localhost:8080/",
          "height": 1000
        },
        "outputId": "5e03aee4-9c12-481d-9153-3d480e6afd14"
      },
      "source": [
        "#Feature importance for n_estimators=100,max_depth=12,random_state=60\n",
        "importances = RFC.feature_importances_\n",
        "std = np.std([tree.feature_importances_ for tree in RFC.estimators_],\n",
        "             axis=0)\n",
        "indices = np.argsort(importances)[::-1]\n",
        "print(indices)\n",
        "\n",
        "# Print the feature ranking\n",
        "print(\"Feature ranking:\")\n",
        "\n",
        "for f in range(X.shape[1]):\n",
        "    print(\"%d. %s (%f)\" % (f + 1, features[indices[f]],  importances[indices[f]]))\n",
        "\n",
        "# Plot the feature importances of the forest\n",
        "fig = plt.figure()\n",
        "plt.title(\"Feature importances\")\n",
        "plt.bar(range(X.shape[1]), importances[indices],\n",
        "       color=\"r\", yerr=std[indices], align=\"center\")\n",
        "plt.xticks(range(X.shape[1]), np.array(features)[indices])\n",
        "plt.xlim([-1, X.shape[1]])\n",
        "plt.ylim([0, None])\n",
        "\n",
        "fig.set_size_inches(15, 8)"
      ],
      "execution_count": 38,
      "outputs": [
        {
          "output_type": "stream",
          "text": [
            "[ 8  7  2 61  4  6  5  0  3 60 59 49 52 50 42 43  1 44 55 48 53 10 14 33\n",
            " 31 34 17 56 54 23 57 58 22 36 28 38 27 30 39  9 18 45 51 47 41 25 32 21\n",
            " 16 46 13 26 15 19 20 40 12 37 11 24 29 35]\n",
            "Feature ranking:\n",
            "1. nr.employed (0.154584)\n",
            "2. euribor3m (0.145614)\n",
            "3. pdays (0.109492)\n",
            "4. poutcome_nonexistent (0.085388)\n",
            "5. emp.var.rate (0.080865)\n",
            "6. cons.conf.idx (0.073293)\n",
            "7. cons.price.idx (0.060223)\n",
            "8. age (0.032174)\n",
            "9. previous (0.025657)\n",
            "10. poutcome_failure (0.020202)\n",
            "11. day_of_week_wed (0.017413)\n",
            "12. month_jun (0.016839)\n",
            "13. month_nov (0.016137)\n",
            "14. month_mar (0.013737)\n",
            "15. loan_yes (0.012448)\n",
            "16. contact_cellular (0.012064)\n",
            "17. campaign (0.010049)\n",
            "18. contact_telephone (0.007834)\n",
            "19. day_of_week_fri (0.006153)\n",
            "20. month_jul (0.005791)\n",
            "21. month_oct (0.005777)\n",
            "22. job_admin. (0.004065)\n",
            "23. job_management (0.004055)\n",
            "24. education_unknown (0.003976)\n",
            "25. education_professional.course (0.003890)\n",
            "26. default_no (0.003778)\n",
            "27. job_services (0.003375)\n",
            "28. day_of_week_mon (0.003167)\n",
            "29. month_sep (0.003073)\n",
            "30. marital_married (0.002998)\n",
            "31. day_of_week_thu (0.002887)\n",
            "32. day_of_week_tue (0.002820)\n",
            "33. marital_divorced (0.002763)\n",
            "34. default_yes (0.002734)\n",
            "35. education_basic.9y (0.002723)\n",
            "36. housing_unknown (0.002673)\n",
            "37. education_basic.6y (0.002346)\n",
            "38. education_illiterate (0.002333)\n",
            "39. housing_yes (0.002329)\n",
            "40. y (0.002250)\n",
            "41. job_student (0.002224)\n",
            "42. month_apr (0.002142)\n",
            "43. month_may (0.002059)\n",
            "44. month_dec (0.002021)\n",
            "45. loan_unknown (0.002016)\n",
            "46. marital_unknown (0.001810)\n",
            "47. education_university.degree (0.001690)\n",
            "48. job_unknown (0.001656)\n",
            "49. job_self-employed (0.001630)\n",
            "50. month_aug (0.001494)\n",
            "51. job_housemaid (0.001468)\n",
            "52. education_basic.4y (0.001440)\n",
            "53. job_retired (0.001383)\n",
            "54. job_technician (0.001178)\n",
            "55. job_unemployed (0.001137)\n",
            "56. loan_no (0.001041)\n",
            "57. job_entrepreneur (0.001033)\n",
            "58. housing_no (0.001020)\n",
            "59. job_blue-collar (0.000893)\n",
            "60. marital_single (0.000548)\n",
            "61. education_high.school (0.000146)\n",
            "62. default_unknown (0.000000)\n"
          ],
          "name": "stdout"
        },
        {
          "output_type": "display_data",
          "data": {
            "image/png": "[encoded data removed]",
            "text/plain": [
              "<Figure size 1080x576 with 1 Axes>"
            ]
          },
          "metadata": {
            "tags": [],
            "needs_background": "light"
          }
        }
      ]
    }
  ]
}